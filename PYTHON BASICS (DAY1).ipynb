{
 "cells": [
  {
   "cell_type": "markdown",
   "id": "0118bfe3",
   "metadata": {},
   "source": [
    "# This Document Contains {Day1} BASICS OF PYTHON by Rupam Gupta."
   ]
  },
  {
   "cell_type": "markdown",
   "id": "296bf87d",
   "metadata": {},
   "source": [
    "***TOPICS COVERED= INTRO, SYNTAX, QUOTATIONS, EXCEPTIONAL CASE, BASIC OPERATIONS, VARIABLES, DATA TYPES, CONCATENATION & FORMATING.***"
   ]
  },
  {
   "cell_type": "markdown",
   "id": "812623c2",
   "metadata": {},
   "source": [
    "**WHY PYTHON?**\n",
    "\n",
    "1) beginner friendly.\n",
    "\n",
    "2) compatible.\n",
    "\n",
    "3) vast libraries & open source framework & tool.\n",
    "\n",
    "4) more readability.\n",
    "\n",
    "5) interactive mode."
   ]
  },
  {
   "cell_type": "markdown",
   "id": "198b255e",
   "metadata": {},
   "source": [
    "Python is case sensitive."
   ]
  },
  {
   "cell_type": "markdown",
   "id": "56c1cbe3",
   "metadata": {},
   "source": [
    "**Python** was developed by **Guido van Rossum** in the early **1990s** and its **latest version is 3.11.0**, we can simply call it Python3. \n",
    "\n",
    "**Python 3.0** was released in **2008**, and is interpreted language i.e it’s not compiled and the interpreter will check the code line by line"
   ]
  },
  {
   "cell_type": "markdown",
   "id": "aa472d21",
   "metadata": {},
   "source": [
    "Inorder to print anything in PYTHON, use the print statement & write **print()**\n",
    "\n",
    "usage of paranthesis () is must, else it will return error"
   ]
  },
  {
   "cell_type": "code",
   "execution_count": 14,
   "id": "77d8ae26",
   "metadata": {},
   "outputs": [
    {
     "name": "stdout",
     "output_type": "stream",
     "text": [
      "hello world\n"
     ]
    }
   ],
   "source": [
    "print(\"hello world\") #to print any string we need to enclose them with double inverted commas ie. (\" \")"
   ]
  },
  {
   "cell_type": "code",
   "execution_count": 15,
   "id": "3ac222c4",
   "metadata": {},
   "outputs": [
    {
     "name": "stdout",
     "output_type": "stream",
     "text": [
      "welcome to the day 1 of Basics Python\n"
     ]
    }
   ],
   "source": [
    "print(\"welcome to the day 1 of Basics Python\")"
   ]
  },
  {
   "cell_type": "markdown",
   "id": "bf9e69eb",
   "metadata": {},
   "source": [
    "To add new cell, use shortcut :- **shift + enter**\n",
    "\n",
    "To run the code, use shortcut :- **ctrl + enter**"
   ]
  },
  {
   "cell_type": "markdown",
   "id": "911a32fe",
   "metadata": {},
   "source": [
    "**Printing the multi line code** - use triple quotation (\"\"\" \"\"\")"
   ]
  },
  {
   "cell_type": "code",
   "execution_count": 16,
   "id": "73ae48be",
   "metadata": {},
   "outputs": [
    {
     "name": "stdout",
     "output_type": "stream",
     "text": [
      "hello Beginners\n",
      "Python is super easy to learn\n"
     ]
    }
   ],
   "source": [
    "print(\"\"\"hello Beginners\n",
    "Python is super easy to learn\"\"\") "
   ]
  },
  {
   "cell_type": "markdown",
   "id": "de87a018",
   "metadata": {},
   "source": [
    "**using triple quotation help to print multiline statements easily or else we have to execute each lines one after other as following**\n",
    "\n"
   ]
  },
  {
   "cell_type": "code",
   "execution_count": 25,
   "id": "b9eb7148",
   "metadata": {},
   "outputs": [
    {
     "name": "stdout",
     "output_type": "stream",
     "text": [
      "hello beginners\n",
      "Python is super easy to learn\n"
     ]
    }
   ],
   "source": [
    "print(\"hello beginners\")\n",
    "print(\"Python is super easy to learn\")"
   ]
  },
  {
   "cell_type": "markdown",
   "id": "cb1a99ed",
   "metadata": {},
   "source": [
    "**more exceptional cases in print statements**\n",
    "\n",
    "Sometimes suppose we want to highlight any internal element from the **\"string\"**, then we have to enclose that **'internal element'** to with different quotation.\n",
    "\n",
    "lets see that with an example\n"
   ]
  },
  {
   "cell_type": "code",
   "execution_count": 26,
   "id": "a605f358",
   "metadata": {},
   "outputs": [
    {
     "ename": "SyntaxError",
     "evalue": "invalid syntax (Temp/ipykernel_15804/792815677.py, line 1)",
     "output_type": "error",
     "traceback": [
      "\u001b[1;36m  File \u001b[1;32m\"C:\\Users\\abc\\AppData\\Local\\Temp/ipykernel_15804/792815677.py\"\u001b[1;36m, line \u001b[1;32m1\u001b[0m\n\u001b[1;33m    print(\"Hi my name is \"Sunny\" \") #this will return error, since external & internal quotation are same.\u001b[0m\n\u001b[1;37m                          ^\u001b[0m\n\u001b[1;31mSyntaxError\u001b[0m\u001b[1;31m:\u001b[0m invalid syntax\n"
     ]
    }
   ],
   "source": [
    "print(\"Hi I am a \"GEEK\" \") #this will return error, since external & internal quotation are same."
   ]
  },
  {
   "cell_type": "code",
   "execution_count": 27,
   "id": "dae172f8",
   "metadata": {},
   "outputs": [
    {
     "name": "stdout",
     "output_type": "stream",
     "text": [
      "Hi I am a 'GEEK' \n"
     ]
    }
   ],
   "source": [
    "#let modify the above test case.\n",
    "\n",
    "print(\"Hi I am a 'GEEK' \")"
   ]
  },
  {
   "cell_type": "code",
   "execution_count": 30,
   "id": "345f4d4b",
   "metadata": {},
   "outputs": [
    {
     "name": "stdout",
     "output_type": "stream",
     "text": [
      "Hi I am a \"GEEK\" \n"
     ]
    }
   ],
   "source": [
    "print(\"\"\"Hi I am a \"GEEK\" \"\"\")"
   ]
  },
  {
   "cell_type": "code",
   "execution_count": 31,
   "id": "62f7ba10",
   "metadata": {},
   "outputs": [
    {
     "name": "stdout",
     "output_type": "stream",
     "text": [
      "Hi I am a \"GEEK\"! \n"
     ]
    }
   ],
   "source": [
    "print(\"\"\"Hi I am a \"GEEK\"! \"\"\")"
   ]
  },
  {
   "cell_type": "markdown",
   "id": "51c232b0",
   "metadata": {},
   "source": [
    "**Lets learn some basic operations in Python**"
   ]
  },
  {
   "cell_type": "code",
   "execution_count": 32,
   "id": "0197c125",
   "metadata": {},
   "outputs": [
    {
     "data": {
      "text/plain": [
       "1475"
      ]
     },
     "execution_count": 32,
     "metadata": {},
     "output_type": "execute_result"
    }
   ],
   "source": [
    "#addition \n",
    "\n",
    "241+1234"
   ]
  },
  {
   "cell_type": "code",
   "execution_count": 33,
   "id": "6276a461",
   "metadata": {},
   "outputs": [
    {
     "data": {
      "text/plain": [
       "3195"
      ]
     },
     "execution_count": 33,
     "metadata": {},
     "output_type": "execute_result"
    }
   ],
   "source": [
    "#substraction\n",
    "\n",
    "4509-1314"
   ]
  },
  {
   "cell_type": "code",
   "execution_count": 34,
   "id": "ffd49d4e",
   "metadata": {},
   "outputs": [
    {
     "data": {
      "text/plain": [
       "805"
      ]
     },
     "execution_count": 34,
     "metadata": {},
     "output_type": "execute_result"
    }
   ],
   "source": [
    "#multiplication\n",
    "\n",
    "35*23"
   ]
  },
  {
   "cell_type": "code",
   "execution_count": 36,
   "id": "5a434986",
   "metadata": {},
   "outputs": [
    {
     "data": {
      "text/plain": [
       "0.48"
      ]
     },
     "execution_count": 36,
     "metadata": {},
     "output_type": "execute_result"
    }
   ],
   "source": [
    "#division\n",
    "\n",
    "24/50"
   ]
  },
  {
   "cell_type": "code",
   "execution_count": 37,
   "id": "b22b7002",
   "metadata": {},
   "outputs": [
    {
     "data": {
      "text/plain": [
       "1225"
      ]
     },
     "execution_count": 37,
     "metadata": {},
     "output_type": "execute_result"
    }
   ],
   "source": [
    "#power of any number\n",
    "\n",
    "35**2 #square"
   ]
  },
  {
   "cell_type": "code",
   "execution_count": 42,
   "id": "3c5198a2",
   "metadata": {},
   "outputs": [
    {
     "data": {
      "text/plain": [
       "91125"
      ]
     },
     "execution_count": 42,
     "metadata": {},
     "output_type": "execute_result"
    }
   ],
   "source": [
    "45**3 #cube"
   ]
  },
  {
   "cell_type": "code",
   "execution_count": 46,
   "id": "416d81e6",
   "metadata": {},
   "outputs": [
    {
     "data": {
      "text/plain": [
       "2"
      ]
     },
     "execution_count": 46,
     "metadata": {},
     "output_type": "execute_result"
    }
   ],
   "source": [
    "#modulus, returns the reminder\n",
    "\n",
    "98%4 #remainder is 2"
   ]
  },
  {
   "cell_type": "code",
   "execution_count": 48,
   "id": "7e6c8b6c",
   "metadata": {},
   "outputs": [
    {
     "data": {
      "text/plain": [
       "5"
      ]
     },
     "execution_count": 48,
     "metadata": {},
     "output_type": "execute_result"
    }
   ],
   "source": [
    "5297%6"
   ]
  },
  {
   "cell_type": "markdown",
   "id": "eb610dbc",
   "metadata": {},
   "source": [
    "# What is a Variable in Python?\n",
    "\n",
    "**A Python variable is a reserved memory location to store values. In other words, a variable in a python program gives data to the computer for processing.**\n",
    "\n",
    "**Variables are containers for storing data values.**\n",
    "\n",
    "\n",
    "**Python Variable Types**\n",
    "\n",
    "Every value in Python has a datatype. Different data types in Python are **Numbers, List, Tuple, Strings, Dictionary, etc.** Variables in Python can be declared by any name or even alphabets like a, aa, abc, etc.\n"
   ]
  },
  {
   "cell_type": "markdown",
   "id": "7747939c",
   "metadata": {},
   "source": [
    "# Rules for Python variables:\n",
    "\n",
    "A variable name must start with a **letter** or the **underscore** character\n",
    "\n",
    "A variable name **cannot** start with a **number**\n",
    "\n",
    "A variable name can only contain **alpha-numeric** characters and **underscores (A-z, 0-9, and _ )**\n",
    "\n",
    "Variable names are **case-sensitive (age, Age and AGE are three different variables)**"
   ]
  },
  {
   "cell_type": "raw",
   "id": "05ab46ae",
   "metadata": {},
   "source": [
    "#Legal variable names:\n",
    "myvar = \"John\"\n",
    "my_var = \"John\"\n",
    "_my_var = \"John\"\n",
    "myVar = \"John\"\n",
    "MYVAR = \"John\"\n",
    "myvar2 = \"John\"\n",
    "\n",
    "#Illegal variable names:\n",
    "2myvar = \"John\"\n",
    "my-var = \"John\"\n",
    "my var = \"John\""
   ]
  },
  {
   "cell_type": "markdown",
   "id": "d2323e4a",
   "metadata": {},
   "source": [
    "**lets try out some examples of the variables**"
   ]
  },
  {
   "cell_type": "code",
   "execution_count": 49,
   "id": "99ea99c0",
   "metadata": {},
   "outputs": [],
   "source": [
    "my_var= 25"
   ]
  },
  {
   "cell_type": "code",
   "execution_count": 50,
   "id": "e3e52be4",
   "metadata": {},
   "outputs": [
    {
     "name": "stdout",
     "output_type": "stream",
     "text": [
      "25\n"
     ]
    }
   ],
   "source": [
    "print(my_var)"
   ]
  },
  {
   "cell_type": "code",
   "execution_count": 51,
   "id": "8cd2ab28",
   "metadata": {},
   "outputs": [],
   "source": [
    "my_var2= 35"
   ]
  },
  {
   "cell_type": "code",
   "execution_count": 52,
   "id": "b668447d",
   "metadata": {},
   "outputs": [
    {
     "name": "stdout",
     "output_type": "stream",
     "text": [
      "35\n"
     ]
    }
   ],
   "source": [
    "print(my_var2)"
   ]
  },
  {
   "cell_type": "code",
   "execution_count": 55,
   "id": "6d79786a",
   "metadata": {},
   "outputs": [
    {
     "name": "stdout",
     "output_type": "stream",
     "text": [
      "60\n"
     ]
    }
   ],
   "source": [
    "add_var=(my_var+my_var2)\n",
    "print(add_var)"
   ]
  },
  {
   "cell_type": "code",
   "execution_count": 58,
   "id": "c111d88b",
   "metadata": {},
   "outputs": [],
   "source": [
    "my_var,my_var2=23,34 #assigning values to the variable in one go, make sure the no. of variables and input matches"
   ]
  },
  {
   "cell_type": "code",
   "execution_count": 59,
   "id": "b7c30931",
   "metadata": {},
   "outputs": [
    {
     "name": "stdout",
     "output_type": "stream",
     "text": [
      "23 34\n"
     ]
    }
   ],
   "source": [
    "print(my_var,my_var2)"
   ]
  },
  {
   "cell_type": "code",
   "execution_count": 62,
   "id": "d010a215",
   "metadata": {},
   "outputs": [
    {
     "name": "stdout",
     "output_type": "stream",
     "text": [
      "57\n"
     ]
    }
   ],
   "source": [
    "print(my_var+my_var2)"
   ]
  },
  {
   "cell_type": "markdown",
   "id": "257d9bbd",
   "metadata": {},
   "source": [
    "**exploring various data types:-**"
   ]
  },
  {
   "cell_type": "markdown",
   "id": "f2947cf1",
   "metadata": {},
   "source": [
    "**integers**\n"
   ]
  },
  {
   "cell_type": "code",
   "execution_count": 63,
   "id": "75bece86",
   "metadata": {},
   "outputs": [
    {
     "name": "stdout",
     "output_type": "stream",
     "text": [
      "98\n"
     ]
    },
    {
     "data": {
      "text/plain": [
       "int"
      ]
     },
     "execution_count": 63,
     "metadata": {},
     "output_type": "execute_result"
    }
   ],
   "source": [
    "a = 98\n",
    "print(a)\n",
    "type(a) #to check the data type of the variable"
   ]
  },
  {
   "cell_type": "code",
   "execution_count": 82,
   "id": "6f57ed57",
   "metadata": {},
   "outputs": [
    {
     "name": "stdout",
     "output_type": "stream",
     "text": [
      "56\n"
     ]
    },
    {
     "data": {
      "text/plain": [
       "int"
      ]
     },
     "execution_count": 82,
     "metadata": {},
     "output_type": "execute_result"
    }
   ],
   "source": [
    "b=56\n",
    "print(b)\n",
    "type(b) #to check the data type of the variable"
   ]
  },
  {
   "cell_type": "code",
   "execution_count": 97,
   "id": "342491f2",
   "metadata": {},
   "outputs": [
    {
     "name": "stdout",
     "output_type": "stream",
     "text": [
      "5488\n"
     ]
    }
   ],
   "source": [
    "c1 = print(a*b)"
   ]
  },
  {
   "cell_type": "code",
   "execution_count": 99,
   "id": "559e78a2",
   "metadata": {},
   "outputs": [
    {
     "data": {
      "text/plain": [
       "NoneType"
      ]
     },
     "execution_count": 99,
     "metadata": {},
     "output_type": "execute_result"
    }
   ],
   "source": [
    "type(c1) #data type of print() is none type... That's why showing NoneType"
   ]
  },
  {
   "cell_type": "markdown",
   "id": "8c6b73bf",
   "metadata": {},
   "source": [
    "**floating points**"
   ]
  },
  {
   "cell_type": "code",
   "execution_count": 86,
   "id": "5db00d7b",
   "metadata": {
    "scrolled": true
   },
   "outputs": [
    {
     "name": "stdout",
     "output_type": "stream",
     "text": [
      "45.3\n"
     ]
    },
    {
     "data": {
      "text/plain": [
       "float"
      ]
     },
     "execution_count": 86,
     "metadata": {},
     "output_type": "execute_result"
    }
   ],
   "source": [
    "c = 45.3\n",
    "print(c)\n",
    "type(c)"
   ]
  },
  {
   "cell_type": "code",
   "execution_count": 87,
   "id": "5b358efe",
   "metadata": {},
   "outputs": [
    {
     "name": "stdout",
     "output_type": "stream",
     "text": [
      "66.44\n"
     ]
    },
    {
     "data": {
      "text/plain": [
       "float"
      ]
     },
     "execution_count": 87,
     "metadata": {},
     "output_type": "execute_result"
    }
   ],
   "source": [
    "d= 66.44\n",
    "print(d)\n",
    "type(d)"
   ]
  },
  {
   "cell_type": "code",
   "execution_count": 101,
   "id": "8f5da7ad",
   "metadata": {},
   "outputs": [
    {
     "name": "stdout",
     "output_type": "stream",
     "text": [
      "3009.7319999999995\n"
     ]
    },
    {
     "data": {
      "text/plain": [
       "NoneType"
      ]
     },
     "execution_count": 101,
     "metadata": {},
     "output_type": "execute_result"
    }
   ],
   "source": [
    "e1=print(c*d)\n",
    "type(e1)  #data type of print() is none type... That's why showing NoneType"
   ]
  },
  {
   "cell_type": "markdown",
   "id": "8316d805",
   "metadata": {},
   "source": [
    "**complex numbers**"
   ]
  },
  {
   "cell_type": "code",
   "execution_count": 103,
   "id": "f29e22ee",
   "metadata": {},
   "outputs": [
    {
     "name": "stdout",
     "output_type": "stream",
     "text": [
      "1j\n"
     ]
    },
    {
     "data": {
      "text/plain": [
       "complex"
      ]
     },
     "execution_count": 103,
     "metadata": {},
     "output_type": "execute_result"
    }
   ],
   "source": [
    "e= 0+1j\n",
    "print(e)\n",
    "type(e)"
   ]
  },
  {
   "cell_type": "code",
   "execution_count": 110,
   "id": "bf8e7652",
   "metadata": {},
   "outputs": [
    {
     "name": "stdout",
     "output_type": "stream",
     "text": [
      "(2+6j)\n"
     ]
    },
    {
     "data": {
      "text/plain": [
       "complex"
      ]
     },
     "execution_count": 110,
     "metadata": {},
     "output_type": "execute_result"
    }
   ],
   "source": [
    "f= 2+6j\n",
    "print(f)\n",
    "type(f)\n"
   ]
  },
  {
   "cell_type": "markdown",
   "id": "1443bef4",
   "metadata": {},
   "source": [
    "# **Lets learn about String Concatenation in Python**\n",
    "\n",
    "**String Concatenation is the technique of combining two strings. String Concatenation can be done using many ways.**\n",
    "\n",
    "1) Using + operator \n",
    "\n",
    "2) Using join() method \n",
    "\n",
    "3) Using % operator \n",
    "\n",
    "4) Using format() function \n",
    "\n",
    "5) Using , (comma)"
   ]
  },
  {
   "cell_type": "markdown",
   "id": "abc6c8ca",
   "metadata": {},
   "source": [
    "**Method 1: String Concatenation using + Operator**\n"
   ]
  },
  {
   "cell_type": "code",
   "execution_count": 114,
   "id": "7a175a03",
   "metadata": {},
   "outputs": [
    {
     "name": "stdout",
     "output_type": "stream",
     "text": [
      "Hello World\n"
     ]
    }
   ],
   "source": [
    "# Defining strings\n",
    "var1 = \"Hello \" #if you see after \"o\" we gave space\n",
    "var2 = \"World\"\n",
    " \n",
    "# + Operator is used to combine strings\n",
    "var3 = var1 + var2 #maintain the space between the variable and operator\n",
    "print(var3)"
   ]
  },
  {
   "cell_type": "code",
   "execution_count": 120,
   "id": "b8741b30",
   "metadata": {},
   "outputs": [
    {
     "name": "stdout",
     "output_type": "stream",
     "text": [
      "Let's Do it\n"
     ]
    }
   ],
   "source": [
    "var4= \"Let's \" #if you see after \"s\" we gave space\n",
    "var5= \"Do it\"\n",
    "\n",
    "var6 = var4 + var5\n",
    "print(var6)"
   ]
  },
  {
   "cell_type": "code",
   "execution_count": 124,
   "id": "ce362f5d",
   "metadata": {},
   "outputs": [
    {
     "name": "stdout",
     "output_type": "stream",
     "text": [
      "2564\n"
     ]
    }
   ],
   "source": [
    "var7= \"25\"\n",
    "var8= \"64\"\n",
    "# above are strings thus it will not return the sum\n",
    "var9 = var7 + var8\n",
    "print(var9)"
   ]
  },
  {
   "cell_type": "code",
   "execution_count": 137,
   "id": "743e1f3c",
   "metadata": {},
   "outputs": [
    {
     "name": "stdout",
     "output_type": "stream",
     "text": [
      "Hi welcome to my class of Python language\n"
     ]
    }
   ],
   "source": [
    "language = \"Python\"\n",
    "\n",
    "print(\"Hi welcome to my class of \" + language + \" language\") # allowed but rarely used in industry"
   ]
  },
  {
   "cell_type": "code",
   "execution_count": 128,
   "id": "84d8035e",
   "metadata": {},
   "outputs": [
    {
     "ename": "SyntaxError",
     "evalue": "invalid syntax (Temp/ipykernel_15804/663606736.py, line 4)",
     "output_type": "error",
     "traceback": [
      "\u001b[1;36m  File \u001b[1;32m\"C:\\Users\\abc\\AppData\\Local\\Temp/ipykernel_15804/663606736.py\"\u001b[1;36m, line \u001b[1;32m4\u001b[0m\n\u001b[1;33m    var12= var10 + var 11\u001b[0m\n\u001b[1;37m                       ^\u001b[0m\n\u001b[1;31mSyntaxError\u001b[0m\u001b[1;31m:\u001b[0m invalid syntax\n"
     ]
    }
   ],
   "source": [
    "var10=\"24\"\n",
    "var11=54\n",
    "\n",
    "var12= var10 + var 11\n",
    "print(var12)  #ERROR since both are of different data types"
   ]
  },
  {
   "cell_type": "markdown",
   "id": "69ddd3fe",
   "metadata": {},
   "source": [
    "**Method 2: String Concatenation using join() Method**\n",
    "\n",
    "The join() method is a string method and returns a string in which the elements of the sequence have been joined by str separator. \n",
    "\n",
    "This method combines the string that is stored in the var1 and var2. It accepts only the list as its argument and list size can be anything.\n"
   ]
  },
  {
   "cell_type": "code",
   "execution_count": 134,
   "id": "e006f3c1",
   "metadata": {},
   "outputs": [
    {
     "name": "stdout",
     "output_type": "stream",
     "text": [
      "HelloWorld\n",
      "Hello World\n"
     ]
    }
   ],
   "source": [
    "var1 = \"Hello\"\n",
    "var2 = \"World\"\n",
    " \n",
    "# join() method is used to combine the strings\n",
    "print(\"\".join([var1, var2])) #here no space(\" \") seperator is available\n",
    " \n",
    "# join() method is used here to combine\n",
    "# the string with a separator Space(\" \")\n",
    "var13 = \" \".join([var1, var2])\n",
    " \n",
    "print(var13)"
   ]
  },
  {
   "cell_type": "code",
   "execution_count": 133,
   "id": "d7a3191b",
   "metadata": {},
   "outputs": [
    {
     "name": "stdout",
     "output_type": "stream",
     "text": [
      "try method 2\n"
     ]
    }
   ],
   "source": [
    "var14 = \"try\"\n",
    "var15 = \"method 2\"\n",
    "\n",
    "var16 = \" \".join([var14, var15])\n",
    "\n",
    "print(var16)\n"
   ]
  },
  {
   "cell_type": "markdown",
   "id": "f3766f04",
   "metadata": {},
   "source": [
    "**Method 3: String Concatenation using % Operator**\n",
    "\n",
    "We can use the % operator for string formatting, it can also be used for string concatenation. \n",
    "\n",
    "It’s useful when we want to concatenate strings and perform simple formatting. \n",
    "\n",
    "The %s denotes string data type. The value in both the variable is passed to the string %s and becomes “Hello World”."
   ]
  },
  {
   "cell_type": "code",
   "execution_count": 135,
   "id": "5820dd7e",
   "metadata": {},
   "outputs": [
    {
     "name": "stdout",
     "output_type": "stream",
     "text": [
      "Hello World\n"
     ]
    }
   ],
   "source": [
    "var1 = \"Hello\"\n",
    "var2 = \"World\"\n",
    " \n",
    "# % Operator is used here to combine the string\n",
    "print(\"% s % s\" % (var1, var2))"
   ]
  },
  {
   "cell_type": "code",
   "execution_count": 136,
   "id": "e8ceb6f1",
   "metadata": {},
   "outputs": [
    {
     "name": "stdout",
     "output_type": "stream",
     "text": [
      "try method 3\n"
     ]
    }
   ],
   "source": [
    "var17 = \"try\"\n",
    "var18 = \"method 3\"\n",
    "\n",
    "print(\"%s %s\" % (var17, var18))"
   ]
  },
  {
   "cell_type": "markdown",
   "id": "d31bd1e3",
   "metadata": {},
   "source": [
    "**Method 4: String Concatenation using format() function**\n",
    "\n",
    "str.format() is one of the string formatting methods in Python, which allows multiple substitutions and value formatting. \n",
    "\n",
    "It concatenate elements within a string through positional formatting. The curly braces {} are used to set the position of strings. \n",
    "\n",
    "The first variable stores in the first curly braces and the second variable stores in the second curly braces. Finally, it prints the value “Hello World”."
   ]
  },
  {
   "cell_type": "code",
   "execution_count": 139,
   "id": "256ba54d",
   "metadata": {},
   "outputs": [
    {
     "name": "stdout",
     "output_type": "stream",
     "text": [
      "Hi welcome to class of Python language, join every Sunday & Monday at 8pm.\n"
     ]
    }
   ],
   "source": [
    "#old way\n",
    "language = \"Python\"\n",
    "day1 = \"Sunday\"\n",
    "day2 = \"Monday\"\n",
    "print(\"Hi welcome to class of {} language, join every {} & {} at 8pm.\".format(language,day1,day2))"
   ]
  },
  {
   "cell_type": "code",
   "execution_count": 145,
   "id": "219682b2",
   "metadata": {},
   "outputs": [
    {
     "name": "stdout",
     "output_type": "stream",
     "text": [
      "Join every Sunday & Monday at 8pm to learn Python language.\n"
     ]
    }
   ],
   "source": [
    "#old way\n",
    "language = \"Python\"\n",
    "day1 = \"Sunday\"\n",
    "day2 = \"Monday\"\n",
    "print(\"Join every {} & {} at 8pm to learn {} language.\".format(day1,day2,language)) #the order to variables can vary."
   ]
  },
  {
   "cell_type": "code",
   "execution_count": 148,
   "id": "7f603277",
   "metadata": {},
   "outputs": [
    {
     "name": "stdout",
     "output_type": "stream",
     "text": [
      "Hi welcome to class of SQL language\n"
     ]
    }
   ],
   "source": [
    "# current standard approach used in python.\n",
    "language2 = \"SQL\"\n",
    "print(f\"Hi welcome to class of {language2} language\") "
   ]
  },
  {
   "cell_type": "code",
   "execution_count": 149,
   "id": "67ce1951",
   "metadata": {},
   "outputs": [
    {
     "name": "stdout",
     "output_type": "stream",
     "text": [
      "Join every Sunday & Friday at 8pm to learn SQL language.\n"
     ]
    }
   ],
   "source": [
    "language2 = \"SQL\"\n",
    "day1 = \"Sunday\"\n",
    "day2 = \"Friday\"\n",
    "print(f\"Join every {day1} & {day2} at 8pm to learn {language2} language.\")"
   ]
  },
  {
   "cell_type": "code",
   "execution_count": 151,
   "id": "36224f09",
   "metadata": {},
   "outputs": [
    {
     "name": "stdout",
     "output_type": "stream",
     "text": [
      "the product of two nums a: 58 and b: 92 is = 5336\n"
     ]
    }
   ],
   "source": [
    "a = 58\n",
    "b = 92\n",
    "c = a * b\n",
    "print(f\"the product of two nums a: {a} and b: {b} is = {c}\")"
   ]
  },
  {
   "cell_type": "markdown",
   "id": "18305973",
   "metadata": {},
   "source": [
    "**Boolean**"
   ]
  },
  {
   "cell_type": "code",
   "execution_count": 156,
   "id": "005e2913",
   "metadata": {},
   "outputs": [
    {
     "name": "stdout",
     "output_type": "stream",
     "text": [
      "True False\n"
     ]
    }
   ],
   "source": [
    "stat1= True\n",
    "stat2= False\n",
    "\n",
    "print(stat1, stat2)"
   ]
  },
  {
   "cell_type": "code",
   "execution_count": 159,
   "id": "9edf1bda",
   "metadata": {},
   "outputs": [
    {
     "name": "stdout",
     "output_type": "stream",
     "text": [
      "True\n"
     ]
    },
    {
     "data": {
      "text/plain": [
       "bool"
      ]
     },
     "execution_count": 159,
     "metadata": {},
     "output_type": "execute_result"
    }
   ],
   "source": [
    "print(stat1)\n",
    "type(stat1)"
   ]
  },
  {
   "cell_type": "code",
   "execution_count": 160,
   "id": "5d38113c",
   "metadata": {},
   "outputs": [
    {
     "name": "stdout",
     "output_type": "stream",
     "text": [
      "False\n"
     ]
    },
    {
     "data": {
      "text/plain": [
       "bool"
      ]
     },
     "execution_count": 160,
     "metadata": {},
     "output_type": "execute_result"
    }
   ],
   "source": [
    "print(stat2)\n",
    "type(stat2)"
   ]
  },
  {
   "cell_type": "code",
   "execution_count": 163,
   "id": "20713253",
   "metadata": {},
   "outputs": [
    {
     "name": "stdout",
     "output_type": "stream",
     "text": [
      "the comparision is: False\n"
     ]
    }
   ],
   "source": [
    "\n",
    "num1 = 32\n",
    "num2 = 21\n",
    "comparision = num1 < num2 #n1 less than n2\n",
    "\n",
    "print(f\"the comparision is: {comparision}\")"
   ]
  },
  {
   "cell_type": "code",
   "execution_count": 170,
   "id": "6c3d728f",
   "metadata": {},
   "outputs": [
    {
     "name": "stdout",
     "output_type": "stream",
     "text": [
      "the comparision is: True\n"
     ]
    }
   ],
   "source": [
    "num1 = 32\n",
    "num2 = 21\n",
    "comparision = num1 != num2 #not equal to\n",
    "\n",
    "print(f\"the comparision is: {comparision}\")"
   ]
  },
  {
   "cell_type": "code",
   "execution_count": 175,
   "id": "fa3e74af",
   "metadata": {},
   "outputs": [
    {
     "name": "stdout",
     "output_type": "stream",
     "text": [
      "the comparision is: False\n"
     ]
    }
   ],
   "source": [
    "num1 = 32\n",
    "num2 = 78\n",
    "comparision = num1 > num2 #n1 greater than n2\n",
    "\n",
    "print(f\"the comparision is: {comparision}\")"
   ]
  },
  {
   "cell_type": "code",
   "execution_count": 177,
   "id": "ff5aa307",
   "metadata": {},
   "outputs": [
    {
     "name": "stdout",
     "output_type": "stream",
     "text": [
      "the comparision is: False\n"
     ]
    }
   ],
   "source": [
    "num1 = 32\n",
    "num2 = 78\n",
    "comparision = num1 == num2 # comparision, if n1 is equals to n2\n",
    "\n",
    "print(f\"the comparision is: {comparision}\")"
   ]
  },
  {
   "cell_type": "markdown",
   "id": "65e8d218",
   "metadata": {},
   "source": [
    "**Method 5: String Concatenation using (, comma)**\n",
    "\n",
    "“,” is a great alternative to string concatenation using “+”. when you want to include single whitespace. \n",
    "\n",
    "Use a comma when you want to combine data types with single whitespace in between."
   ]
  },
  {
   "cell_type": "code",
   "execution_count": 178,
   "id": "17c2c50b",
   "metadata": {},
   "outputs": [
    {
     "name": "stdout",
     "output_type": "stream",
     "text": [
      "Hello World\n"
     ]
    }
   ],
   "source": [
    "var1 = \"Hello\"\n",
    "var2 = \"World\"\n",
    " \n",
    "# \" , \" to combine data types with a single whitespace.\n",
    "\n",
    "print(var1, var2)"
   ]
  },
  {
   "cell_type": "code",
   "execution_count": 181,
   "id": "d1bff568",
   "metadata": {},
   "outputs": [
    {
     "name": "stdout",
     "output_type": "stream",
     "text": [
      "Use Comma\n"
     ]
    }
   ],
   "source": [
    "var19 = \"Use\"\n",
    "var20 = \"Comma\"\n",
    "\n",
    "print(var19,var20)"
   ]
  },
  {
   "cell_type": "markdown",
   "id": "06f263d1",
   "metadata": {},
   "source": [
    "# thank you :)\n"
   ]
  },
  {
   "cell_type": "markdown",
   "id": "201d5aad",
   "metadata": {},
   "source": [
    "**Check out the next document for Day 2 topics.**"
   ]
  },
  {
   "cell_type": "code",
   "execution_count": null,
   "id": "f28c4f13",
   "metadata": {},
   "outputs": [],
   "source": []
  }
 ],
 "metadata": {
  "kernelspec": {
   "display_name": "Python 3 (ipykernel)",
   "language": "python",
   "name": "python3"
  },
  "language_info": {
   "codemirror_mode": {
    "name": "ipython",
    "version": 3
   },
   "file_extension": ".py",
   "mimetype": "text/x-python",
   "name": "python",
   "nbconvert_exporter": "python",
   "pygments_lexer": "ipython3",
   "version": "3.9.7"
  }
 },
 "nbformat": 4,
 "nbformat_minor": 5
}
